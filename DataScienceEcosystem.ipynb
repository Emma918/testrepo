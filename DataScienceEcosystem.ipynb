{
 "cells": [
  {
   "cell_type": "markdown",
   "id": "fe071468",
   "metadata": {},
   "source": [
    "# Data Science Tools and Ecosystem"
   ]
  },
  {
   "cell_type": "markdown",
   "id": "f5396d7f",
   "metadata": {},
   "source": [
    "#### In this notebook, Data Science Tools and Ecosystem are summarized."
   ]
  },
  {
   "cell_type": "markdown",
   "id": "a99e9298-d4e1-4316-843c-b2fb4381a21b",
   "metadata": {},
   "source": [
    "**objectives:**\n",
    "* List popular languages for Data Science\n",
    "* Share your Jupyter Notebook publicly on GitHub\n",
    "* Create a Jupyter Notebook with markdown and code cells\n",
    "* Demonstrate proficiency in Data Science toolkit knowledge"
   ]
  },
  {
   "cell_type": "markdown",
   "id": "ae7e8089",
   "metadata": {},
   "source": [
    "#### Some of the popular languages that Data Scientists use are :\n",
    "1. R\n",
    "2. Python\n",
    "3. Java\n",
    "4. Julia"
   ]
  },
  {
   "cell_type": "markdown",
   "id": "016b93a0",
   "metadata": {},
   "source": [
    "#### Some of the commonly used libraries used by Data Scientists include:\n",
    "1. ggplot\n",
    "2. plotly\n",
    "3. Leaflet\n",
    "4. caret"
   ]
  },
  {
   "cell_type": "markdown",
   "id": "5be33a56",
   "metadata": {},
   "source": [
    "|Data Science Tools|\n",
    "|------------------|\n",
    "| Jupyter          | \n",
    "|R | \n",
    "Apache Spark | "
   ]
  },
  {
   "cell_type": "markdown",
   "id": "0137a118-9f39-406c-b3f1-d45d8f8b877f",
   "metadata": {},
   "source": [
    "### Below are a few examples of evaluating arithmetic expressions in Python."
   ]
  },
  {
   "cell_type": "code",
   "execution_count": 1,
   "id": "49297a28-d0a8-420c-a646-2b7ad6cf48d0",
   "metadata": {
    "tags": []
   },
   "outputs": [
    {
     "data": {
      "text/plain": [
       "17"
      ]
     },
     "execution_count": 1,
     "metadata": {},
     "output_type": "execute_result"
    }
   ],
   "source": [
    "# This a simple arithmetic expression to mutiply then add integers\n",
    "(3*4)+5"
   ]
  },
  {
   "cell_type": "code",
   "execution_count": 4,
   "id": "150f835b-bb6a-499d-a5fb-50d59226692c",
   "metadata": {
    "tags": []
   },
   "outputs": [
    {
     "data": {
      "text/plain": [
       "3.3333333333333335"
      ]
     },
     "execution_count": 4,
     "metadata": {},
     "output_type": "execute_result"
    }
   ],
   "source": [
    "#This will convert 200 minutes to hours by diving by 60\n",
    "200/60"
   ]
  },
  {
   "cell_type": "markdown",
   "id": "81151b2d-cc7d-4a28-b5bc-8bb7c05b8839",
   "metadata": {},
   "source": [
    "## Author\n",
    "YangZhennan"
   ]
  },
  {
   "cell_type": "code",
   "execution_count": null,
   "id": "091f0805-319e-475b-925a-d8d4350b06be",
   "metadata": {},
   "outputs": [],
   "source": []
  }
 ],
 "metadata": {
  "kernelspec": {
   "display_name": "Python 3 (ipykernel)",
   "language": "python",
   "name": "python3"
  },
  "language_info": {
   "codemirror_mode": {
    "name": "ipython",
    "version": 3
   },
   "file_extension": ".py",
   "mimetype": "text/x-python",
   "name": "python",
   "nbconvert_exporter": "python",
   "pygments_lexer": "ipython3",
   "version": "3.11.3"
  }
 },
 "nbformat": 4,
 "nbformat_minor": 5
}
